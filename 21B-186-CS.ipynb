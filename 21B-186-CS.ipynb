{
 "cells": [
  {
   "cell_type": "code",
   "execution_count": 1,
   "id": "587f93fc",
   "metadata": {},
   "outputs": [
    {
     "name": "stdout",
     "output_type": "stream",
     "text": [
      "All students:\n",
      "Name: Alice, Age: 18, Grade: A\n",
      "Name: Bob, Age: 19, Grade: B\n",
      "Name: Charlie, Age: 20, Grade: C\n",
      "\n",
      "Finding a student:\n",
      "Found Bob in the database.\n",
      "\n",
      "Removing a student:\n",
      "Charlie removed from the database.\n",
      "\n",
      "All students after removal:\n",
      "Name: Alice, Age: 18, Grade: A\n",
      "Name: Bob, Age: 19, Grade: B\n"
     ]
    }
   ],
   "source": [
    "class StudentDatabase:\n",
    "    def __init__(self):\n",
    "        self.students = []\n",
    "\n",
    "    def add_student(self, name, age, grade):\n",
    "        student = {'name': name, 'age': age, 'grade': grade}\n",
    "        self.students.append(student)\n",
    "\n",
    "    def display_students(self):\n",
    "        for student in self.students:\n",
    "            print(f\"Name: {student['name']}, Age: {student['age']}, Grade: {student['grade']}\")\n",
    "\n",
    "    def find_student(self, name):\n",
    "        for student in self.students:\n",
    "            if student['name'] == name:\n",
    "                return student\n",
    "        return None\n",
    "\n",
    "    def remove_student(self, name):\n",
    "        for student in self.students:\n",
    "            if student['name'] == name:\n",
    "                self.students.remove(student)\n",
    "                print(f\"{name} removed from the database.\")\n",
    "                return\n",
    "        print(f\"{name} not found in the database.\")\n",
    "\n",
    "\n",
    "# Usage of the StudentDatabase class\n",
    "student_db = StudentDatabase()\n",
    "\n",
    "# Adding some initial students\n",
    "student_db.add_student(\"Ali\", 11, 'A')\n",
    "student_db.add_student(\"Khalid\", 19, 'C')\n",
    "student_db.add_student(\"Saad\", 20, 'A+')\n",
    "\n",
    "# Displaying all students\n",
    "print(\"List of the students:\")\n",
    "student_db.display_students()\n",
    "\n",
    "# Finding a student\n",
    "print(\"\\nFinding a student:\")\n",
    "student_to_find = student_db.find_student(\"Umair\")\n",
    "if student_to_find:\n",
    "    print(f\"Found {student_to_find['name']} in the database.\")\n",
    "else:\n",
    "    print(\"The student doesnot exist in th.\")\n",
    "\n",
    "# Removing a student\n",
    "print(\"\\nRemoving a student:\")\n",
    "student_db.remove_student(\"Charlie\")\n",
    "\n",
    "# Displaying all students after removal\n",
    "print(\"\\nAll students after removal:\")\n",
    "student_db.display_students()\n"
   ]
  },
  {
   "cell_type": "code",
   "execution_count": 2,
   "id": "b1db5d4a",
   "metadata": {},
   "outputs": [
    {
     "name": "stdout",
     "output_type": "stream",
     "text": [
      "elpmaxe\n"
     ]
    }
   ],
   "source": [
    "def recursive_reverse(input_str):\n",
    "    if len(input_str) <= 1:\n",
    "        return input_str\n",
    "    else:\n",
    "        return recursive_reverse(input_str[1:]) + input_str[0]\n",
    "result = recursive_reverse('example')\n",
    "print(result)\n"
   ]
  },
  {
   "cell_type": "code",
   "execution_count": 3,
   "id": "ac3d3a39",
   "metadata": {},
   "outputs": [
    {
     "name": "stdout",
     "output_type": "stream",
     "text": [
      "(1, 9)\n"
     ]
    }
   ],
   "source": [
    "def minmax(data):\n",
    "    if not data:\n",
    "        return None  \n",
    "    min_val = max_val = data[0]\n",
    "    for num in data[1:]:\n",
    "        if num < min_val:\n",
    "            min_val = num\n",
    "        elif num > max_val:\n",
    "            max_val = num\n",
    "\n",
    "    return min_val, max_val\n",
    "sequence = [3, 7, 2, 9, 1, 5]\n",
    "result = minmax(sequence)\n",
    "print(result)\n"
   ]
  },
  {
   "cell_type": "code",
   "execution_count": 6,
   "id": "4ee71fb9",
   "metadata": {},
   "outputs": [
    {
     "name": "stdout",
     "output_type": "stream",
     "text": [
      "Original Matrix:\n",
      "[[1. 2. 3.]\n",
      " [4. 5. 6.]\n",
      " [7. 8. 9.]]\n",
      "\n",
      "Modified Matrix (with elements replaced by their multiplicative inverses):\n",
      "[[1.         0.5        0.33333333]\n",
      " [0.25       0.2        0.16666667]\n",
      " [0.14285714 0.125      0.11111111]]\n"
     ]
    }
   ],
   "source": [
    "import numpy as np\n",
    "\n",
    "def replace_with_inverse_recursive(arr, row=0, col=0):\n",
    "    if row == arr.shape[0]:\n",
    "        return arr\n",
    "    elif col == arr.shape[1]:\n",
    "        return replace_with_inverse_recursive(arr, row + 1, 0)\n",
    "    else:\n",
    "        arr[row, col] = 1 / arr[row, col]\n",
    "        return replace_with_inverse_recursive(arr, row, col + 1)\n",
    "\n",
    "def replace_matrix_elements_with_inverse(matrix):\n",
    "    modified_matrix = matrix.copy()\n",
    "    return replace_with_inverse_recursive(modified_matrix)\n",
    "\n",
    "original_matrix = np.array([[1, 2, 3], [4, 5, 6], [7, 8, 9]], dtype=float)\n",
    "print(\"Original Matrix:\")\n",
    "print(original_matrix)\n",
    "\n",
    "modified_matrix = replace_matrix_elements_with_inverse(original_matrix)\n",
    "print(\"\\nModified Matrix (with elements replaced by their multiplicative inverses):\")\n",
    "print(modified_matrix)\n"
   ]
  },
  {
   "cell_type": "code",
   "execution_count": 4,
   "id": "2a305638",
   "metadata": {},
   "outputs": [
    {
     "name": "stdout",
     "output_type": "stream",
     "text": [
      "[1, 2, 3, 4, 5]\n"
     ]
    }
   ],
   "source": [
    "def unique(lst):\n",
    "    result = []\n",
    "    for item in lst:\n",
    "        if item not in result:\n",
    "            result.append(item)\n",
    "    return result\n",
    "original_list = [1, 2, 2, 3, 4, 4, 5]\n",
    "unique_list = unique(original_list)\n",
    "print(unique_list)\n"
   ]
  },
  {
   "cell_type": "code",
   "execution_count": 5,
   "id": "19888967",
   "metadata": {},
   "outputs": [
    {
     "name": "stdout",
     "output_type": "stream",
     "text": [
      "True\n",
      "False\n"
     ]
    }
   ],
   "source": [
    "def is_palindrome(input_str):\n",
    "    input_str = input_str.lower()  # Convert to lowercase for case-insensitive comparison\n",
    "    if len(input_str) <= 1:\n",
    "        return True\n",
    "    elif input_str[0] == input_str[-1]:\n",
    "        return is_palindrome(input_str[1:-1])\n",
    "    else:\n",
    "        return False\n",
    "\n",
    "# Example usage\n",
    "result1 = is_palindrome('racecar')\n",
    "print(result1)  \n",
    "\n",
    "result2 = is_palindrome('hello')\n",
    "print(result2)  \t\n"
   ]
  }
 ],
 "metadata": {
  "kernelspec": {
   "display_name": "Python 3 (ipykernel)",
   "language": "python",
   "name": "python3"
  },
  "language_info": {
   "codemirror_mode": {
    "name": "ipython",
    "version": 3
   },
   "file_extension": ".py",
   "mimetype": "text/x-python",
   "name": "python",
   "nbconvert_exporter": "python",
   "pygments_lexer": "ipython3",
   "version": "3.9.12"
  }
 },
 "nbformat": 4,
 "nbformat_minor": 5
}
